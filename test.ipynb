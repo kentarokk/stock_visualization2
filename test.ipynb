{
 "cells": [
  {
   "cell_type": "code",
   "execution_count": 41,
   "metadata": {},
   "outputs": [],
   "source": [
    "import pandas as pd\n",
    "import matplotlib.pyplot as plt\n",
    "import yfinance as yf\n",
    "from datetime import datetime as dt\n",
    "from pandas_datareader import data\n",
    "import seaborn as sns\n",
    "import altair as alt\n",
    "%matplotlib inline"
   ]
  },
  {
   "cell_type": "code",
   "execution_count": 2,
   "metadata": {},
   "outputs": [],
   "source": [
    "start = \"2022-01-01\"\n",
    "end = \"2022-06-30\""
   ]
  },
  {
   "cell_type": "code",
   "execution_count": 8,
   "metadata": {},
   "outputs": [],
   "source": [
    "df = data.DataReader(\"^N225\", \"yahoo\", start, end)"
   ]
  },
  {
   "cell_type": "code",
   "execution_count": 9,
   "metadata": {},
   "outputs": [
    {
     "data": {
      "text/html": [
       "<div>\n",
       "<style scoped>\n",
       "    .dataframe tbody tr th:only-of-type {\n",
       "        vertical-align: middle;\n",
       "    }\n",
       "\n",
       "    .dataframe tbody tr th {\n",
       "        vertical-align: top;\n",
       "    }\n",
       "\n",
       "    .dataframe thead th {\n",
       "        text-align: right;\n",
       "    }\n",
       "</style>\n",
       "<table border=\"1\" class=\"dataframe\">\n",
       "  <thead>\n",
       "    <tr style=\"text-align: right;\">\n",
       "      <th></th>\n",
       "      <th>High</th>\n",
       "      <th>Low</th>\n",
       "      <th>Open</th>\n",
       "      <th>Close</th>\n",
       "      <th>Volume</th>\n",
       "      <th>Adj Close</th>\n",
       "    </tr>\n",
       "    <tr>\n",
       "      <th>Date</th>\n",
       "      <th></th>\n",
       "      <th></th>\n",
       "      <th></th>\n",
       "      <th></th>\n",
       "      <th></th>\n",
       "      <th></th>\n",
       "    </tr>\n",
       "  </thead>\n",
       "  <tbody>\n",
       "    <tr>\n",
       "      <th>2022-01-04</th>\n",
       "      <td>29323.789062</td>\n",
       "      <td>28954.560547</td>\n",
       "      <td>29098.410156</td>\n",
       "      <td>29301.789062</td>\n",
       "      <td>66000000</td>\n",
       "      <td>29301.789062</td>\n",
       "    </tr>\n",
       "    <tr>\n",
       "      <th>2022-01-05</th>\n",
       "      <td>29388.160156</td>\n",
       "      <td>29204.449219</td>\n",
       "      <td>29288.800781</td>\n",
       "      <td>29332.160156</td>\n",
       "      <td>78600000</td>\n",
       "      <td>29332.160156</td>\n",
       "    </tr>\n",
       "    <tr>\n",
       "      <th>2022-01-06</th>\n",
       "      <td>29158.949219</td>\n",
       "      <td>28487.869141</td>\n",
       "      <td>29136.750000</td>\n",
       "      <td>28487.869141</td>\n",
       "      <td>71600000</td>\n",
       "      <td>28487.869141</td>\n",
       "    </tr>\n",
       "    <tr>\n",
       "      <th>2022-01-07</th>\n",
       "      <td>28813.089844</td>\n",
       "      <td>28293.699219</td>\n",
       "      <td>28711.529297</td>\n",
       "      <td>28478.560547</td>\n",
       "      <td>75200000</td>\n",
       "      <td>28478.560547</td>\n",
       "    </tr>\n",
       "    <tr>\n",
       "      <th>2022-01-11</th>\n",
       "      <td>28473.470703</td>\n",
       "      <td>28089.490234</td>\n",
       "      <td>28380.900391</td>\n",
       "      <td>28222.480469</td>\n",
       "      <td>73700000</td>\n",
       "      <td>28222.480469</td>\n",
       "    </tr>\n",
       "  </tbody>\n",
       "</table>\n",
       "</div>"
      ],
      "text/plain": [
       "                    High           Low          Open         Close    Volume  \\\n",
       "Date                                                                           \n",
       "2022-01-04  29323.789062  28954.560547  29098.410156  29301.789062  66000000   \n",
       "2022-01-05  29388.160156  29204.449219  29288.800781  29332.160156  78600000   \n",
       "2022-01-06  29158.949219  28487.869141  29136.750000  28487.869141  71600000   \n",
       "2022-01-07  28813.089844  28293.699219  28711.529297  28478.560547  75200000   \n",
       "2022-01-11  28473.470703  28089.490234  28380.900391  28222.480469  73700000   \n",
       "\n",
       "               Adj Close  \n",
       "Date                      \n",
       "2022-01-04  29301.789062  \n",
       "2022-01-05  29332.160156  \n",
       "2022-01-06  28487.869141  \n",
       "2022-01-07  28478.560547  \n",
       "2022-01-11  28222.480469  "
      ]
     },
     "execution_count": 9,
     "metadata": {},
     "output_type": "execute_result"
    }
   ],
   "source": [
    "df.head()"
   ]
  },
  {
   "cell_type": "code",
   "execution_count": 12,
   "metadata": {},
   "outputs": [
    {
     "data": {
      "text/html": [
       "<div>\n",
       "<style scoped>\n",
       "    .dataframe tbody tr th:only-of-type {\n",
       "        vertical-align: middle;\n",
       "    }\n",
       "\n",
       "    .dataframe tbody tr th {\n",
       "        vertical-align: top;\n",
       "    }\n",
       "\n",
       "    .dataframe thead th {\n",
       "        text-align: right;\n",
       "    }\n",
       "</style>\n",
       "<table border=\"1\" class=\"dataframe\">\n",
       "  <thead>\n",
       "    <tr style=\"text-align: right;\">\n",
       "      <th></th>\n",
       "      <th>High</th>\n",
       "      <th>Low</th>\n",
       "      <th>Open</th>\n",
       "      <th>Close</th>\n",
       "      <th>Volume</th>\n",
       "      <th>Adj Close</th>\n",
       "    </tr>\n",
       "    <tr>\n",
       "      <th>Date</th>\n",
       "      <th></th>\n",
       "      <th></th>\n",
       "      <th></th>\n",
       "      <th></th>\n",
       "      <th></th>\n",
       "      <th></th>\n",
       "    </tr>\n",
       "  </thead>\n",
       "  <tbody>\n",
       "    <tr>\n",
       "      <th>2022-01-04</th>\n",
       "      <td>29323.789062</td>\n",
       "      <td>28954.560547</td>\n",
       "      <td>29098.410156</td>\n",
       "      <td>29301.789062</td>\n",
       "      <td>66000000</td>\n",
       "      <td>29301.789062</td>\n",
       "    </tr>\n",
       "    <tr>\n",
       "      <th>2022-01-05</th>\n",
       "      <td>29388.160156</td>\n",
       "      <td>29204.449219</td>\n",
       "      <td>29288.800781</td>\n",
       "      <td>29332.160156</td>\n",
       "      <td>78600000</td>\n",
       "      <td>29332.160156</td>\n",
       "    </tr>\n",
       "    <tr>\n",
       "      <th>2022-01-06</th>\n",
       "      <td>29158.949219</td>\n",
       "      <td>28487.869141</td>\n",
       "      <td>29136.750000</td>\n",
       "      <td>28487.869141</td>\n",
       "      <td>71600000</td>\n",
       "      <td>28487.869141</td>\n",
       "    </tr>\n",
       "    <tr>\n",
       "      <th>2022-01-07</th>\n",
       "      <td>28813.089844</td>\n",
       "      <td>28293.699219</td>\n",
       "      <td>28711.529297</td>\n",
       "      <td>28478.560547</td>\n",
       "      <td>75200000</td>\n",
       "      <td>28478.560547</td>\n",
       "    </tr>\n",
       "    <tr>\n",
       "      <th>2022-01-11</th>\n",
       "      <td>28473.470703</td>\n",
       "      <td>28089.490234</td>\n",
       "      <td>28380.900391</td>\n",
       "      <td>28222.480469</td>\n",
       "      <td>73700000</td>\n",
       "      <td>28222.480469</td>\n",
       "    </tr>\n",
       "  </tbody>\n",
       "</table>\n",
       "</div>"
      ],
      "text/plain": [
       "                    High           Low          Open         Close    Volume  \\\n",
       "Date                                                                           \n",
       "2022-01-04  29323.789062  28954.560547  29098.410156  29301.789062  66000000   \n",
       "2022-01-05  29388.160156  29204.449219  29288.800781  29332.160156  78600000   \n",
       "2022-01-06  29158.949219  28487.869141  29136.750000  28487.869141  71600000   \n",
       "2022-01-07  28813.089844  28293.699219  28711.529297  28478.560547  75200000   \n",
       "2022-01-11  28473.470703  28089.490234  28380.900391  28222.480469  73700000   \n",
       "\n",
       "               Adj Close  \n",
       "Date                      \n",
       "2022-01-04  29301.789062  \n",
       "2022-01-05  29332.160156  \n",
       "2022-01-06  28487.869141  \n",
       "2022-01-07  28478.560547  \n",
       "2022-01-11  28222.480469  "
      ]
     },
     "execution_count": 12,
     "metadata": {},
     "output_type": "execute_result"
    }
   ],
   "source": [
    "df_test = data.DataReader(\"^N225\", \"yahoo\", start, end)\n",
    "df_test.head()"
   ]
  },
  {
   "cell_type": "code",
   "execution_count": 3,
   "metadata": {},
   "outputs": [],
   "source": [
    "days = 30\n",
    "data = yf.Ticker('8750.T').history(period=f'{days}d')"
   ]
  },
  {
   "cell_type": "code",
   "execution_count": 4,
   "metadata": {},
   "outputs": [
    {
     "data": {
      "text/html": [
       "<div>\n",
       "<style scoped>\n",
       "    .dataframe tbody tr th:only-of-type {\n",
       "        vertical-align: middle;\n",
       "    }\n",
       "\n",
       "    .dataframe tbody tr th {\n",
       "        vertical-align: top;\n",
       "    }\n",
       "\n",
       "    .dataframe thead th {\n",
       "        text-align: right;\n",
       "    }\n",
       "</style>\n",
       "<table border=\"1\" class=\"dataframe\">\n",
       "  <thead>\n",
       "    <tr style=\"text-align: right;\">\n",
       "      <th></th>\n",
       "      <th>Open</th>\n",
       "      <th>High</th>\n",
       "      <th>Low</th>\n",
       "      <th>Close</th>\n",
       "      <th>Volume</th>\n",
       "      <th>Dividends</th>\n",
       "      <th>Stock Splits</th>\n",
       "    </tr>\n",
       "    <tr>\n",
       "      <th>Date</th>\n",
       "      <th></th>\n",
       "      <th></th>\n",
       "      <th></th>\n",
       "      <th></th>\n",
       "      <th></th>\n",
       "      <th></th>\n",
       "      <th></th>\n",
       "    </tr>\n",
       "  </thead>\n",
       "  <tbody>\n",
       "    <tr>\n",
       "      <th>2022-06-08</th>\n",
       "      <td>2684.0</td>\n",
       "      <td>2697.0</td>\n",
       "      <td>2650.5</td>\n",
       "      <td>2690.0</td>\n",
       "      <td>4337900</td>\n",
       "      <td>0</td>\n",
       "      <td>0</td>\n",
       "    </tr>\n",
       "    <tr>\n",
       "      <th>2022-06-09</th>\n",
       "      <td>2673.0</td>\n",
       "      <td>2686.0</td>\n",
       "      <td>2633.5</td>\n",
       "      <td>2637.5</td>\n",
       "      <td>3669700</td>\n",
       "      <td>0</td>\n",
       "      <td>0</td>\n",
       "    </tr>\n",
       "    <tr>\n",
       "      <th>2022-06-10</th>\n",
       "      <td>2613.5</td>\n",
       "      <td>2636.0</td>\n",
       "      <td>2590.0</td>\n",
       "      <td>2598.0</td>\n",
       "      <td>4898500</td>\n",
       "      <td>0</td>\n",
       "      <td>0</td>\n",
       "    </tr>\n",
       "    <tr>\n",
       "      <th>2022-06-13</th>\n",
       "      <td>2565.5</td>\n",
       "      <td>2620.5</td>\n",
       "      <td>2543.0</td>\n",
       "      <td>2608.0</td>\n",
       "      <td>3646500</td>\n",
       "      <td>0</td>\n",
       "      <td>0</td>\n",
       "    </tr>\n",
       "    <tr>\n",
       "      <th>2022-06-14</th>\n",
       "      <td>2604.5</td>\n",
       "      <td>2660.0</td>\n",
       "      <td>2599.0</td>\n",
       "      <td>2637.5</td>\n",
       "      <td>3884500</td>\n",
       "      <td>0</td>\n",
       "      <td>0</td>\n",
       "    </tr>\n",
       "  </tbody>\n",
       "</table>\n",
       "</div>"
      ],
      "text/plain": [
       "              Open    High     Low   Close   Volume  Dividends  Stock Splits\n",
       "Date                                                                        \n",
       "2022-06-08  2684.0  2697.0  2650.5  2690.0  4337900          0             0\n",
       "2022-06-09  2673.0  2686.0  2633.5  2637.5  3669700          0             0\n",
       "2022-06-10  2613.5  2636.0  2590.0  2598.0  4898500          0             0\n",
       "2022-06-13  2565.5  2620.5  2543.0  2608.0  3646500          0             0\n",
       "2022-06-14  2604.5  2660.0  2599.0  2637.5  3884500          0             0"
      ]
     },
     "execution_count": 4,
     "metadata": {},
     "output_type": "execute_result"
    }
   ],
   "source": [
    "data.head()"
   ]
  },
  {
   "cell_type": "code",
   "execution_count": null,
   "metadata": {},
   "outputs": [],
   "source": []
  },
  {
   "cell_type": "code",
   "execution_count": 5,
   "metadata": {},
   "outputs": [],
   "source": [
    "tickers = {\n",
    "    \"DL\" : \"8750.T\",\n",
    "}"
   ]
  },
  {
   "cell_type": "code",
   "execution_count": 26,
   "metadata": {},
   "outputs": [],
   "source": [
    "def get_data(days, tickers):\n",
    "    df = pd.DataFrame()\n",
    "    for company in tickers.keys():\n",
    "        tkr = yf.Ticker(tickers[company])\n",
    "        hist = tkr.history(period=f'{days}d')\n",
    "        hist.index = hist.index.strftime('%d %B %Y')\n",
    "        hist = hist[['Close']]\n",
    "        hist.columns = [company]\n",
    "        hist = hist.T\n",
    "        hist.index.name = 'Name'\n",
    "        df = pd.concat([df, hist])\n",
    "    return df"
   ]
  },
  {
   "cell_type": "code",
   "execution_count": 32,
   "metadata": {},
   "outputs": [
    {
     "data": {
      "text/html": [
       "<div>\n",
       "<style scoped>\n",
       "    .dataframe tbody tr th:only-of-type {\n",
       "        vertical-align: middle;\n",
       "    }\n",
       "\n",
       "    .dataframe tbody tr th {\n",
       "        vertical-align: top;\n",
       "    }\n",
       "\n",
       "    .dataframe thead th {\n",
       "        text-align: right;\n",
       "    }\n",
       "</style>\n",
       "<table border=\"1\" class=\"dataframe\">\n",
       "  <thead>\n",
       "    <tr style=\"text-align: right;\">\n",
       "      <th>Date</th>\n",
       "      <th>08 June 2022</th>\n",
       "      <th>09 June 2022</th>\n",
       "      <th>10 June 2022</th>\n",
       "      <th>13 June 2022</th>\n",
       "      <th>14 June 2022</th>\n",
       "      <th>15 June 2022</th>\n",
       "      <th>16 June 2022</th>\n",
       "      <th>17 June 2022</th>\n",
       "      <th>20 June 2022</th>\n",
       "      <th>21 June 2022</th>\n",
       "      <th>...</th>\n",
       "      <th>06 July 2022</th>\n",
       "      <th>07 July 2022</th>\n",
       "      <th>08 July 2022</th>\n",
       "      <th>11 July 2022</th>\n",
       "      <th>12 July 2022</th>\n",
       "      <th>13 July 2022</th>\n",
       "      <th>14 July 2022</th>\n",
       "      <th>15 July 2022</th>\n",
       "      <th>19 July 2022</th>\n",
       "      <th>20 July 2022</th>\n",
       "    </tr>\n",
       "    <tr>\n",
       "      <th>Name</th>\n",
       "      <th></th>\n",
       "      <th></th>\n",
       "      <th></th>\n",
       "      <th></th>\n",
       "      <th></th>\n",
       "      <th></th>\n",
       "      <th></th>\n",
       "      <th></th>\n",
       "      <th></th>\n",
       "      <th></th>\n",
       "      <th></th>\n",
       "      <th></th>\n",
       "      <th></th>\n",
       "      <th></th>\n",
       "      <th></th>\n",
       "      <th></th>\n",
       "      <th></th>\n",
       "      <th></th>\n",
       "      <th></th>\n",
       "      <th></th>\n",
       "      <th></th>\n",
       "    </tr>\n",
       "  </thead>\n",
       "  <tbody>\n",
       "    <tr>\n",
       "      <th>DL</th>\n",
       "      <td>2690.0</td>\n",
       "      <td>2637.5</td>\n",
       "      <td>2598.0</td>\n",
       "      <td>2608.0</td>\n",
       "      <td>2637.5</td>\n",
       "      <td>2645.0</td>\n",
       "      <td>2625.5</td>\n",
       "      <td>2556.5</td>\n",
       "      <td>2516.5</td>\n",
       "      <td>2552.5</td>\n",
       "      <td>...</td>\n",
       "      <td>2385.5</td>\n",
       "      <td>2380.0</td>\n",
       "      <td>2403.0</td>\n",
       "      <td>2442.5</td>\n",
       "      <td>2376.0</td>\n",
       "      <td>2419.0</td>\n",
       "      <td>2353.5</td>\n",
       "      <td>2280.5</td>\n",
       "      <td>2307.0</td>\n",
       "      <td>2356.0</td>\n",
       "    </tr>\n",
       "  </tbody>\n",
       "</table>\n",
       "<p>1 rows × 30 columns</p>\n",
       "</div>"
      ],
      "text/plain": [
       "Date  08 June 2022  09 June 2022  10 June 2022  13 June 2022  14 June 2022  \\\n",
       "Name                                                                         \n",
       "DL          2690.0        2637.5        2598.0        2608.0        2637.5   \n",
       "\n",
       "Date  15 June 2022  16 June 2022  17 June 2022  20 June 2022  21 June 2022  \\\n",
       "Name                                                                         \n",
       "DL          2645.0        2625.5        2556.5        2516.5        2552.5   \n",
       "\n",
       "Date  ...  06 July 2022  07 July 2022  08 July 2022  11 July 2022  \\\n",
       "Name  ...                                                           \n",
       "DL    ...        2385.5        2380.0        2403.0        2442.5   \n",
       "\n",
       "Date  12 July 2022  13 July 2022  14 July 2022  15 July 2022  19 July 2022  \\\n",
       "Name                                                                         \n",
       "DL          2376.0        2419.0        2353.5        2280.5        2307.0   \n",
       "\n",
       "Date  20 July 2022  \n",
       "Name                \n",
       "DL          2356.0  \n",
       "\n",
       "[1 rows x 30 columns]"
      ]
     },
     "execution_count": 32,
     "metadata": {},
     "output_type": "execute_result"
    }
   ],
   "source": [
    "df.head()"
   ]
  },
  {
   "cell_type": "code",
   "execution_count": 36,
   "metadata": {},
   "outputs": [],
   "source": [
    "df = df.T.reset_index()\n",
    "df = pd.melt(df, id_vars=['Date']).rename(\n",
    "columns={\"value\": \"Stockprice\"})"
   ]
  },
  {
   "cell_type": "code",
   "execution_count": 37,
   "metadata": {},
   "outputs": [
    {
     "data": {
      "text/html": [
       "<div>\n",
       "<style scoped>\n",
       "    .dataframe tbody tr th:only-of-type {\n",
       "        vertical-align: middle;\n",
       "    }\n",
       "\n",
       "    .dataframe tbody tr th {\n",
       "        vertical-align: top;\n",
       "    }\n",
       "\n",
       "    .dataframe thead th {\n",
       "        text-align: right;\n",
       "    }\n",
       "</style>\n",
       "<table border=\"1\" class=\"dataframe\">\n",
       "  <thead>\n",
       "    <tr style=\"text-align: right;\">\n",
       "      <th></th>\n",
       "      <th>Date</th>\n",
       "      <th>Name</th>\n",
       "      <th>Stockprice</th>\n",
       "    </tr>\n",
       "  </thead>\n",
       "  <tbody>\n",
       "    <tr>\n",
       "      <th>0</th>\n",
       "      <td>08 June 2022</td>\n",
       "      <td>DL</td>\n",
       "      <td>2690.0</td>\n",
       "    </tr>\n",
       "    <tr>\n",
       "      <th>1</th>\n",
       "      <td>09 June 2022</td>\n",
       "      <td>DL</td>\n",
       "      <td>2637.5</td>\n",
       "    </tr>\n",
       "    <tr>\n",
       "      <th>2</th>\n",
       "      <td>10 June 2022</td>\n",
       "      <td>DL</td>\n",
       "      <td>2598.0</td>\n",
       "    </tr>\n",
       "    <tr>\n",
       "      <th>3</th>\n",
       "      <td>13 June 2022</td>\n",
       "      <td>DL</td>\n",
       "      <td>2608.0</td>\n",
       "    </tr>\n",
       "    <tr>\n",
       "      <th>4</th>\n",
       "      <td>14 June 2022</td>\n",
       "      <td>DL</td>\n",
       "      <td>2637.5</td>\n",
       "    </tr>\n",
       "  </tbody>\n",
       "</table>\n",
       "</div>"
      ],
      "text/plain": [
       "           Date Name  Stockprice\n",
       "0  08 June 2022   DL      2690.0\n",
       "1  09 June 2022   DL      2637.5\n",
       "2  10 June 2022   DL      2598.0\n",
       "3  13 June 2022   DL      2608.0\n",
       "4  14 June 2022   DL      2637.5"
      ]
     },
     "execution_count": 37,
     "metadata": {},
     "output_type": "execute_result"
    }
   ],
   "source": [
    "df.head()"
   ]
  },
  {
   "cell_type": "code",
   "execution_count": 39,
   "metadata": {},
   "outputs": [
    {
     "data": {
      "text/plain": [
       "<AxesSubplot:xlabel='Date', ylabel='Stockprice'>"
      ]
     },
     "execution_count": 39,
     "metadata": {},
     "output_type": "execute_result"
    },
    {
     "data": {
      "image/png": "[encoded data removed]",
      "text/plain": [
       "<Figure size 432x288 with 1 Axes>"
      ]
     },
     "metadata": {
      "needs_background": "light"
     },
     "output_type": "display_data"
    }
   ],
   "source": [
    "sns.lineplot(x=\"Date\", y=\"Stockprice\", data=df)"
   ]
  },
  {
   "cell_type": "code",
   "execution_count": 45,
   "metadata": {},
   "outputs": [],
   "source": [
    "ymin=0\n",
    "ymax=3500\n",
    "\n",
    "chart = (\n",
    "    alt.Chart(df)\n",
    "    .mark_line(opacity=0.7, clip=True)\n",
    "    .encode(\n",
    "    x=\"Date:T\",\n",
    "    y=alt.Y(\"Stockprice:Q\", stack=None, scale=alt.Scale(domain=[ymin,ymax])),\n",
    "    color=\"Name:N\"\n",
    ")\n",
    ")"
   ]
  },
  {
   "cell_type": "code",
   "execution_count": 46,
   "metadata": {},
   "outputs": [
    {
     "data": {
      "text/html": [
       "\n",
       "<div id=\"altair-viz-6f15f2d00e35493988fdbe3d5ea03403\"></div>\n",
       "<script type=\"text/javascript\">\n",
       "  var VEGA_DEBUG = (typeof VEGA_DEBUG == \"undefined\") ? {} : VEGA_DEBUG;\n",
       "  (function(spec, embedOpt){\n",
       "    let outputDiv = document.currentScript.previousElementSibling;\n",
       "    if (outputDiv.id !== \"altair-viz-6f15f2d00e35493988fdbe3d5ea03403\") {\n",
       "      outputDiv = document.getElementById(\"altair-viz-6f15f2d00e35493988fdbe3d5ea03403\");\n",
       "    }\n",
       "    const paths = {\n",
       "      \"vega\": \"https://cdn.jsdelivr.net/npm//vega@5?noext\",\n",
       "      \"vega-lib\": \"https://cdn.jsdelivr.net/npm//vega-lib?noext\",\n",
       "      \"vega-lite\": \"https://cdn.jsdelivr.net/npm//vega-lite@4.17.0?noext\",\n",
       "      \"vega-embed\": \"https://cdn.jsdelivr.net/npm//vega-embed@6?noext\",\n",
       "    };\n",
       "\n",
       "    function maybeLoadScript(lib, version) {\n",
       "      var key = `${lib.replace(\"-\", \"\")}_version`;\n",
       "      return (VEGA_DEBUG[key] == version) ?\n",
       "        Promise.resolve(paths[lib]) :\n",
       "        new Promise(function(resolve, reject) {\n",
       "          var s = document.createElement('script');\n",
       "          document.getElementsByTagName(\"head\")[0].appendChild(s);\n",
       "          s.async = true;\n",
       "          s.onload = () => {\n",
       "            VEGA_DEBUG[key] = version;\n",
       "            return resolve(paths[lib]);\n",
       "          };\n",
       "          s.onerror = () => reject(`Error loading script: ${paths[lib]}`);\n",
       "          s.src = paths[lib];\n",
       "        });\n",
       "    }\n",
       "\n",
       "    function showError(err) {\n",
       "      outputDiv.innerHTML = `<div class=\"error\" style=\"color:red;\">${err}</div>`;\n",
       "      throw err;\n",
       "    }\n",
       "\n",
       "    function displayChart(vegaEmbed) {\n",
       "      vegaEmbed(outputDiv, spec, embedOpt)\n",
       "        .catch(err => showError(`Javascript Error: ${err.message}<br>This usually means there's a typo in your chart specification. See the javascript console for the full traceback.`));\n",
       "    }\n",
       "\n",
       "    if(typeof define === \"function\" && define.amd) {\n",
       "      requirejs.config({paths});\n",
       "      require([\"vega-embed\"], displayChart, err => showError(`Error loading script: ${err.message}`));\n",
       "    } else {\n",
       "      maybeLoadScript(\"vega\", \"5\")\n",
       "        .then(() => maybeLoadScript(\"vega-lite\", \"4.17.0\"))\n",
       "        .then(() => maybeLoadScript(\"vega-embed\", \"6\"))\n",
       "        .catch(showError)\n",
       "        .then(() => displayChart(vegaEmbed));\n",
       "    }\n",
       "  })({\"config\": {\"view\": {\"continuousWidth\": 400, \"continuousHeight\": 300}}, \"data\": {\"name\": \"data-6eb53165809835b59defae94fb4805b4\"}, \"mark\": {\"type\": \"line\", \"clip\": true, \"opacity\": 0.7}, \"encoding\": {\"color\": {\"field\": \"Name\", \"type\": \"nominal\"}, \"x\": {\"field\": \"Date\", \"type\": \"temporal\"}, \"y\": {\"field\": \"Stockprice\", \"scale\": {\"domain\": [0, 3500]}, \"stack\": null, \"type\": \"quantitative\"}}, \"$schema\": \"https://vega.github.io/schema/vega-lite/v4.17.0.json\", \"datasets\": {\"data-6eb53165809835b59defae94fb4805b4\": [{\"Date\": \"08 June 2022\", \"Name\": \"DL\", \"Stockprice\": 2690.0}, {\"Date\": \"09 June 2022\", \"Name\": \"DL\", \"Stockprice\": 2637.5}, {\"Date\": \"10 June 2022\", \"Name\": \"DL\", \"Stockprice\": 2598.0}, {\"Date\": \"13 June 2022\", \"Name\": \"DL\", \"Stockprice\": 2608.0}, {\"Date\": \"14 June 2022\", \"Name\": \"DL\", \"Stockprice\": 2637.5}, {\"Date\": \"15 June 2022\", \"Name\": \"DL\", \"Stockprice\": 2645.0}, {\"Date\": \"16 June 2022\", \"Name\": \"DL\", \"Stockprice\": 2625.5}, {\"Date\": \"17 June 2022\", \"Name\": \"DL\", \"Stockprice\": 2556.5}, {\"Date\": \"20 June 2022\", \"Name\": \"DL\", \"Stockprice\": 2516.5}, {\"Date\": \"21 June 2022\", \"Name\": \"DL\", \"Stockprice\": 2552.5}, {\"Date\": \"22 June 2022\", \"Name\": \"DL\", \"Stockprice\": 2544.0}, {\"Date\": \"23 June 2022\", \"Name\": \"DL\", \"Stockprice\": 2528.0}, {\"Date\": \"24 June 2022\", \"Name\": \"DL\", \"Stockprice\": 2457.5}, {\"Date\": \"27 June 2022\", \"Name\": \"DL\", \"Stockprice\": 2519.5}, {\"Date\": \"28 June 2022\", \"Name\": \"DL\", \"Stockprice\": 2558.5}, {\"Date\": \"29 June 2022\", \"Name\": \"DL\", \"Stockprice\": 2534.0}, {\"Date\": \"30 June 2022\", \"Name\": \"DL\", \"Stockprice\": 2510.0}, {\"Date\": \"01 July 2022\", \"Name\": \"DL\", \"Stockprice\": 2476.0}, {\"Date\": \"04 July 2022\", \"Name\": \"DL\", \"Stockprice\": 2440.0}, {\"Date\": \"05 July 2022\", \"Name\": \"DL\", \"Stockprice\": 2526.5}, {\"Date\": \"06 July 2022\", \"Name\": \"DL\", \"Stockprice\": 2385.5}, {\"Date\": \"07 July 2022\", \"Name\": \"DL\", \"Stockprice\": 2380.0}, {\"Date\": \"08 July 2022\", \"Name\": \"DL\", \"Stockprice\": 2403.0}, {\"Date\": \"11 July 2022\", \"Name\": \"DL\", \"Stockprice\": 2442.5}, {\"Date\": \"12 July 2022\", \"Name\": \"DL\", \"Stockprice\": 2376.0}, {\"Date\": \"13 July 2022\", \"Name\": \"DL\", \"Stockprice\": 2419.0}, {\"Date\": \"14 July 2022\", \"Name\": \"DL\", \"Stockprice\": 2353.5}, {\"Date\": \"15 July 2022\", \"Name\": \"DL\", \"Stockprice\": 2280.5}, {\"Date\": \"19 July 2022\", \"Name\": \"DL\", \"Stockprice\": 2307.0}, {\"Date\": \"20 July 2022\", \"Name\": \"DL\", \"Stockprice\": 2356.0}]}}, {\"mode\": \"vega-lite\"});\n",
       "</script>"
      ],
      "text/plain": [
       "alt.Chart(...)"
      ]
     },
     "execution_count": 46,
     "metadata": {},
     "output_type": "execute_result"
    }
   ],
   "source": [
    "chart"
   ]
  },
  {
   "cell_type": "code",
   "execution_count": 47,
   "metadata": {},
   "outputs": [],
   "source": [
    "tickers = {\n",
    "    \"第一生命\" : \"8750.T\",\n",
    "    \"かんぽ生命\":\"7181.T\"\n",
    "}"
   ]
  },
  {
   "cell_type": "code",
   "execution_count": 49,
   "metadata": {},
   "outputs": [],
   "source": [
    "companies = list(tickers.keys())"
   ]
  },
  {
   "cell_type": "code",
   "execution_count": 50,
   "metadata": {},
   "outputs": [
    {
     "data": {
      "text/plain": [
       "['第一生命', 'かんぽ生命']"
      ]
     },
     "execution_count": 50,
     "metadata": {},
     "output_type": "execute_result"
    }
   ],
   "source": [
    "companies"
   ]
  },
  {
   "cell_type": "code",
   "execution_count": null,
   "metadata": {},
   "outputs": [],
   "source": []
  }
 ],
 "metadata": {
  "kernelspec": {
   "display_name": "Python 3.8.5 ('venv': venv)",
   "language": "python",
   "name": "python3"
  },
  "language_info": {
   "codemirror_mode": {
    "name": "ipython",
    "version": 3
   },
   "file_extension": ".py",
   "mimetype": "text/x-python",
   "name": "python",
   "nbconvert_exporter": "python",
   "pygments_lexer": "ipython3",
   "version": "3.8.5"
  },
  "orig_nbformat": 4,
  "vscode": {
   "interpreter": {
    "hash": "788c8554a837096c1351cfa0cb664f52e3ac276209fd59362026c65ced493a4d"
   }
  }
 },
 "nbformat": 4,
 "nbformat_minor": 2
}
